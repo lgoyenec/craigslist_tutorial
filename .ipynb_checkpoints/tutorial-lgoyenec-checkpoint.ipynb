{
 "cells": [
  {
   "cell_type": "markdown",
   "metadata": {},
   "source": [
    "<img src = \"cl-logo.png\"> \n",
    "***\n",
    "## Craigslist library\n",
    "\n",
    "Laura Goyeneche <br>\n",
    "MSPPM Data Analytics '20 <br>\n",
    "Heinz College <br>\n",
    "Carnegie Mellon University <br>"
   ]
  },
  {
   "cell_type": "markdown",
   "metadata": {},
   "source": [
    "### Index \n",
    "\n",
    "1. <a href = \"#int\" >Introduction</a>\n",
    "2. <a href = \"#lib\" >Requirements</a>\n",
    "3. <a href = \"#desc\">Library description</a>\n",
    "4. <a href = \"#app\" >Example application</a>\n",
    "5. <a href = \"#con\" >Conclusion</a>\n",
    "6. <a href = \"#ref\" >References</a>\n",
    "7. <a href = \"#anx\" >Annexes</a>"
   ]
  },
  {
   "cell_type": "markdown",
   "metadata": {},
   "source": [
    "## <a id = \"int\">Introduction</a>\n",
    "This tutorial will introduce you to the `craigslist` library, and will walk you through an introductory analysis of the data. *Craigslist* corresponds to one of the most powerful websites for online marketing. Its marketplace connects buyers and sellers in 570 cities over 70 countries. With this information you can gather relevant inputs about the behavior of different markets in order to respond many questions such as, how are the housing prices around a specific area? what type of jobs one can find through Craigslist? how often individuals use it for meeting people?, among others."
   ]
  },
  {
   "cell_type": "markdown",
   "metadata": {},
   "source": [
    "## <a id = \"lib\">Requirements</a>\n",
    "\n",
    "### Installation\n",
    "For the following analysis, you'll be using two libraries in particular: `craiglist` and `plotly`. The first one, corresponds to the data of interest. The section <a href = \"#desc\">Library description</a> will provide you with the details of this dataset and its fascinating different types of information. The second one, you'll be using it through the notebook to create interactive visualizations; some basic description will be find as well. The installation using `pip` is: <br>\n",
    "\n",
    "`pip install python-craigslist` <br>\n",
    "`pip install plotly==4.1.0` <br>\n",
    "\n",
    "Considering that Craigslist contains text data, this tutorial requires the library `wordcloud`. This library will allow you to create basic analysis with text. The installation using `pip` is: <br>\n",
    "\n",
    "`pip install wordcloud` <br>\n",
    "\n",
    "### Importing\n",
    "\n",
    "After you install the libraries, run the following commands and make sure that they run without mistake. Sometimes `craigslist` library don't run in the first attempt due to connection. **Don't worry, this is normal !** Run it for the second time, it should work. "
   ]
  },
  {
   "cell_type": "code",
   "execution_count": 1,
   "metadata": {},
   "outputs": [],
   "source": [
    "# Craigslist\n",
    "import craigslist as cl\n",
    "\n",
    "# Web scrapping\n",
    "import re\n",
    "from requests import get\n",
    "from bs4 import BeautifulSoup\n",
    "\n",
    "# Plotly\n",
    "import plotly\n",
    "import plotly.io as pio\n",
    "import plotly.express as px\n",
    "import plotly.graph_objects as go\n",
    "from plotly.subplots import make_subplots\n",
    "from plotly.tools import FigureFactory as ff\n",
    "\n",
    "# Word Cloud\n",
    "import wordcloud\n",
    "from wordcloud import WordCloud\n",
    "\n",
    "# Text analysis\n",
    "from nltk.corpus import stopwords\n",
    "from nltk.probability import FreqDist\n",
    "from nltk.tokenize import word_tokenize\n",
    "from nltk.tokenize import RegexpTokenizer\n",
    "\n",
    "# Other\n",
    "import pandas as pd\n",
    "import numpy as np\n",
    "\n",
    "pio.renderers.default = \"notebook_connected\""
   ]
  },
  {
   "cell_type": "markdown",
   "metadata": {},
   "source": [
    "Before we start exploring this library, let me respond **few questions** that you may have right now:\n",
    "\n",
    "1. *Why aren't you directly scrapping the information from the Craigslist website?*\n",
    "\n",
    "    * Well, that's a great question! Simple answer: it was easier. Someone already took the time to scrapped the information for us! Why should we bother? \n",
    "    * However, in this tutorial you'll observe that by using this library, we don't have control over the code; for instance, we can't make changes to pull the information in a different way. For that reason, in <a href = \"#app\">Example Application</a>: ***Is somebody watching you?*** you'll find a small demonstration of how to scrap Craigslist data, and in <a href = \"#ref\">References</a> additional in case you're interest. \n",
    "    \n",
    "\n",
    "2. *Why we should import all the libraries above?*\n",
    "\n",
    "    * *plotly.express*: creates visualization for `pandas.DataFrame`\n",
    "    * *plotly.graph_objects*: creates visualization for data in different formats different to tidy dataframes\n",
    "    * *make_subplots*: creates a grid or matrix of plots \n",
    "    * *plotly.io*: allows as to save static images of visualizations we'll be creating or embed it in a Jupyter notebook \n",
    "  \n",
    "\n",
    "3. *What does `pio.renderers.default = \"notebook_connected\"` do?* \n",
    "    \n",
    "    * This allows you to render Jupyter notebooks in nbviewer. **Don't forget to import it!** "
   ]
  },
  {
   "cell_type": "markdown",
   "metadata": {},
   "source": [
    "## <a id = \"desc\">Library description:</a>\n",
    "\n",
    "Good news! This library it's simple and easy to understand. We'll go through each one of its categories and explore what type of analysis we can do with the information. \n",
    "\n",
    "### Class and Subclasses\n",
    "\n",
    "This library contains a main *class* `CraigslistBase` and *subclasses* named as the categories in Craigslist website. In the following image we can observe the website [Craigslist Pittsburgh](https://pittsburgh.craigslist.org/). The subclasses corresponds to the titles with <font color = red>red checks</font>."
   ]
  },
  {
   "cell_type": "markdown",
   "metadata": {},
   "source": [
    "<img src = \"cl-pitt.jpg\" style=\"width: 600px;\"/> "
   ]
  },
  {
   "cell_type": "markdown",
   "metadata": {},
   "source": [
    "As observe in the image, but with a different name, the different subclasses are:\n",
    "\n",
    "* `CraigslistCommunity`\n",
    "* `CraigslistHousing`\n",
    "* `CraigslistJobs`\n",
    "* `CraigslistForSale`\n",
    "* `CraigslistEvents`\n",
    "* `CraigslistServices`\n",
    "* `CraigslistGigs`\n",
    "* `CraigslistResumes`\n",
    "\n",
    "To observe the filters of the main class and subclasses, you must call `cl`. It allows you to explore the set of filters that you can use to query the data. Let's observe how we can personalize our query in `Jobs` subclass:"
   ]
  },
  {
   "cell_type": "code",
   "execution_count": null,
   "metadata": {},
   "outputs": [
    {
     "name": "stdout",
     "output_type": "stream",
     "text": [
      "Base filters:\n",
      "* query = ...\n",
      "* search_titles = True/False\n",
      "* has_image = True/False\n",
      "* posted_today = True/False\n",
      "* bundle_duplicates = True/False\n",
      "* search_distance = ...\n",
      "* zip_code = ...\n",
      "Section specific filters:\n",
      "* is_internship = True/False\n",
      "* is_nonprofit = True/False\n",
      "* is_telecommuting = True/False\n"
     ]
    }
   ],
   "source": [
    "cl.CraigslistJobs.show_filters()"
   ]
  },
  {
   "cell_type": "markdown",
   "metadata": {},
   "source": [
    "Fascinating ! Looking for a full time job as web or info desing? You might find it in Craigslist !"
   ]
  },
  {
   "cell_type": "markdown",
   "metadata": {},
   "source": [
    "### Basic filters\n",
    "\n",
    "Now that we understand the class and subclasses in the library, let's select our city and/or area of interest. But first things first. To be able to access to the information, we need the following elements:\n",
    "\n",
    "* `site`: city or country of interest\n",
    "* `area` (optional): area in the place of interest; i.e. Manhattan, Queens or Bronx in New York City\n",
    "* `category`: category of interest; i.e. sublets in Housing or activities in community\n",
    "\n",
    "As an example, we'll get those objects from Craigslist Chicago: \n",
    "\n",
    "1. Go to https://www.craigslist.org/about/sites\n",
    "\n",
    "\n",
    "2. Search *Chicago*, and **click** on it\n",
    "\n",
    "\n",
    "3. You'll be directed to https://chicago.craigslist.org/ (image below)\n",
    "\n",
    "\n",
    "4. `site` (purple box):\n",
    "    * You'll always be directed to `<site>.craigslist.org`\n",
    "    * The value fo `<site>` is the one you are going to use. In this case, `site = chicago`\n",
    "    \n",
    "    \n",
    "5. `area` (red box): \n",
    "    * It's importat to point out that not all sites have area. \n",
    "    * Click in the area of interest, and the value of `<area>` is the one `<site>.craigslist.org/<area>/`\n",
    "    * If you are interest in *City of Chicago*, click on `chc` and you'll be redirected to [chicago.craigslist.org/chc/](https://chicago.craigslist.org/chc/)\n",
    "    \n",
    "    \n",
    "6. `category` (green box): \n",
    "    * Click in the subclass of interest. \n",
    "    * You'll be redirected to `<site>.craigslist.org/d/<category-name>/search/<area>/<category>`\n",
    "    * The value of `<category>` is the one you are going to use\n",
    "    * Following the image below, the category for jobs in accounting or finance is `acc`\n",
    "    * As mentioned before, it's not mandatory to include `area`. The links will change a bit. \n",
    "    \n",
    "        a. With area: https://chicago.craigslist.org/d/accounting-finance/search/chc/acc <br>\n",
    "        b. Without area: https://chicago.craigslist.org/d/accounting-finance/search/acc\n",
    "        \n",
    "        Can you notice the difference? Not much right? But still, be aware of it !"
   ]
  },
  {
   "cell_type": "markdown",
   "metadata": {},
   "source": [
    "<img src = \"cl-chi.png\" style=\"width: 800px;\"/> "
   ]
  },
  {
   "cell_type": "markdown",
   "metadata": {},
   "source": [
    "Now that you know the elements of the library, it's time to analyze the data. \n",
    "\n",
    "### Warnings\n",
    "\n",
    "- Queries might take few seconds or minutes depending on the number of results\n",
    "- There is a limit in the number of reuslts: maximum 3,000\n",
    "- Results change daily: new posts are created and some other expired"
   ]
  },
  {
   "cell_type": "markdown",
   "metadata": {},
   "source": [
    "## <a id = \"app\">Example Application</a>"
   ]
  },
  {
   "cell_type": "markdown",
   "metadata": {},
   "source": [
    "### Furnished rentals in Chicago"
   ]
  },
  {
   "cell_type": "code",
   "execution_count": null,
   "metadata": {},
   "outputs": [],
   "source": [
    "# Show filters\n",
    "cl.CraigslistHousing.show_filters()"
   ]
  },
  {
   "cell_type": "code",
   "execution_count": null,
   "metadata": {},
   "outputs": [],
   "source": [
    "# Define filters \n",
    "cl_filters = {\"bundle_duplicates\" : True, \n",
    "              \"search_distance\"   : 3,\n",
    "              \"zip_code\"          : 60601,\n",
    "              \"is_furnished\"      : True}\n",
    "\n",
    "# Filter the Craigslist object\n",
    "# Sort by newest and add location (longitute and latitude)\n",
    "cl_housing = cl.CraigslistHousing(site = \"chicago\", category = \"apa\", filters = cl_filters)\n",
    "cl_results = cl_housing.get_results(sort_by = 'newest', geotagged = True)"
   ]
  },
  {
   "cell_type": "code",
   "execution_count": null,
   "metadata": {},
   "outputs": [],
   "source": [
    "# Create and populate a list\n",
    "# Try and except let the loop run until it's permitted (> 3,000)\n",
    "# This might take some minutes\n",
    "df_housing = []\n",
    "for i in cl_results: \n",
    "    try:    \n",
    "        df_housing.append(i)\n",
    "    except: \n",
    "        pass"
   ]
  },
  {
   "cell_type": "code",
   "execution_count": null,
   "metadata": {},
   "outputs": [],
   "source": [
    "# Number of results ~ 300\n",
    "len(df_housing)"
   ]
  },
  {
   "cell_type": "code",
   "execution_count": null,
   "metadata": {},
   "outputs": [],
   "source": [
    "# Transform df_housing list to a pandas DataFrame in order to use plotly.express\n",
    "df_housing = pd.DataFrame(df_housing)"
   ]
  },
  {
   "cell_type": "code",
   "execution_count": null,
   "metadata": {},
   "outputs": [],
   "source": [
    "# Get data columns\n",
    "df_housing.columns"
   ]
  },
  {
   "cell_type": "code",
   "execution_count": null,
   "metadata": {},
   "outputs": [],
   "source": [
    "# Let's observe the first 5 observations of the variables of interest\n",
    "ff.create_table(df_housing[['price','area','bedrooms','geotag','where']].head())"
   ]
  },
  {
   "cell_type": "code",
   "execution_count": null,
   "metadata": {},
   "outputs": [],
   "source": [
    "# Extract number from string in variable `area` and `price`\n",
    "# Convert `area`, `price` and `bedrooms` from object to int in order find statistics\n",
    "# For results without `area`, first we need to replace NaN as 0 and then replace again with NaN\n",
    "df_housing['area']     = df_housing.area.str.extract('(\\d+)').fillna(0).astype(int).replace(0, np.nan)\n",
    "df_housing['price']    = df_housing.price.str.extract('(\\d+)').astype(int)\n",
    "df_housing['bedrooms'] = df_housing.bedrooms.str.extract('(\\d+)').fillna(99).astype(int).replace(99, np.nan)"
   ]
  },
  {
   "cell_type": "code",
   "execution_count": null,
   "metadata": {},
   "outputs": [],
   "source": [
    "# Descriptive statistics of all variables\n",
    "ff.create_table(df_housing[['price','area','bedrooms']].describe().round(2).T, index = True)"
   ]
  },
  {
   "cell_type": "code",
   "execution_count": null,
   "metadata": {},
   "outputs": [],
   "source": [
    "# Generate layout of grid / matrix of box plots\n",
    "fig = make_subplots(rows = 1, cols = 3)\n",
    "\n",
    "# Box plot Price\n",
    "fig.add_trace(go.Box(y            = df_housing['price'], \n",
    "                     name         = 'Price', \n",
    "                     boxpoints    = \"all\",\n",
    "                     marker_color = '#582E5A'), row = 1, col = 1)\n",
    "# Box plot Area\n",
    "fig.add_trace(go.Box(y            = df_housing['area'], \n",
    "                     name         = 'Area',\n",
    "                     boxpoints    = \"all\",\n",
    "                     marker_color = '#B98389'), row = 1, col = 2)\n",
    "# Box plot Bedrooms\n",
    "fig.add_trace(go.Box(y            = df_housing['bedrooms'], \n",
    "                     name         = 'Bedrooms',\n",
    "                     boxpoints    = \"all\",\n",
    "                     marker_color = '#854798'), row = 1, col = 3)\n",
    "\n",
    "fig.update_layout(title_text = \"Box plot of variables of interest\", width = 900, height = 500)\n",
    "fig.show()"
   ]
  },
  {
   "cell_type": "code",
   "execution_count": null,
   "metadata": {},
   "outputs": [],
   "source": [
    "# Histogram of Price\n",
    "px.histogram(df_housing, \n",
    "             x      = \"price\",  \n",
    "             nbins  = 50,\n",
    "             title  = \"Distribution of rent price\",\n",
    "             labels = {\"price\": \"Price\"},\n",
    "             width  = 900, height = 400,\n",
    "             color_discrete_sequence  = [\"#AF90A9\"]).show()"
   ]
  },
  {
   "cell_type": "code",
   "execution_count": null,
   "metadata": {},
   "outputs": [],
   "source": [
    "# Data table \n",
    "tab_bedrooms  = pd.DataFrame({\"bedrooms\": df_housing['bedrooms'].value_counts(), \"label\": [1,2,3,4,5]})\n",
    "\n",
    "# Bar plot bedrooms\n",
    "px.bar(tab_bedrooms, \n",
    "       x      = \"label\",\n",
    "       y      = \"bedrooms\",\n",
    "       title  = \"Number of bedrooms\",\n",
    "       labels = {\"bedrooms\": \"Bedrooms\"},\n",
    "       width  = 900, height = 400,\n",
    "       color_discrete_sequence  = [\"#A05C7B\"]).show()"
   ]
  },
  {
   "cell_type": "code",
   "execution_count": null,
   "metadata": {},
   "outputs": [],
   "source": [
    "# Scatter plot Price vs. Area + Regression Analysis (OLS)\n",
    "px.scatter(df_housing.dropna(), \n",
    "           x         = \"area\", \n",
    "           y         = \"price\", \n",
    "           trendline = 'ols',\n",
    "           width     = 900, height = 400,\n",
    "           color_discrete_sequence  = [\"#672A4E\"]).show()"
   ]
  },
  {
   "cell_type": "code",
   "execution_count": null,
   "metadata": {
    "scrolled": true
   },
   "outputs": [],
   "source": [
    "# Scatter plot Price vs. Area + Regression Analysis (OLS)\n",
    "\n",
    "# Copy original \n",
    "temp = df_housing.copy()\n",
    "\n",
    "# Select min and max values to generate random values\n",
    "mean = temp['area'].describe()[1]\n",
    "std  = temp['area'].describe()[2]\n",
    "\n",
    "# Replacing NaN (aprox. 361, 66.5% sample) with random values\n",
    "temp['area'] = temp['area'].apply(lambda v: float(np.random.normal(mean, std, 1)))\n",
    "\n",
    "# Compute estimates under OLS\n",
    "y       = temp[\"price\"].values.copy()\n",
    "X       = np.array([temp[\"area\"], np.ones(len(temp))]).T\n",
    "betahat = np.linalg.solve(X.T @ X, X.T @ y)\n",
    "yhat    = X @ betahat\n",
    "\n",
    "# Define scatter plot\n",
    "fig = go.Figure()\n",
    "\n",
    "# Scatter plot Price vs. Area \"imputed\" data\n",
    "fig.add_trace(go.Scatter(x    = X[:,0],\n",
    "                         y    = y,\n",
    "                         name = 'Data \"Imputed\"',\n",
    "                         mode = 'markers',\n",
    "                         marker_color = '#A3C2BB'))\n",
    "\n",
    "# Line plot Fitted values vs. Area \"imputed\" data\n",
    "fig.add_trace(go.Scatter(x    = X[:,0],\n",
    "                         y    = yhat, \n",
    "                         name = 'OLS Fit \"Imputed\"',\n",
    "                         mode = \"lines\",\n",
    "                         marker_color = '#820B8A'))\n",
    "\n",
    "fig.show()"
   ]
  },
  {
   "cell_type": "code",
   "execution_count": null,
   "metadata": {},
   "outputs": [],
   "source": [
    "# Words to be eliminated \n",
    "stopwords = set({\"Furnished\",\n",
    "                 \"Apartment\",\"Home\",\"House\",\n",
    "                 \"Bedroom\",\"One\",\"Floor\",\n",
    "                 \"Now\",\"Updated\",\"Available\",\"near\",\n",
    "                 \"and\",\"of\",\"for\",\"Bd\",\"ASAP\",\"in\",\"the\",\"to\",\"Your\",\"with\"})\n",
    "\n",
    "# Word Cloud\n",
    "WordCloud(stopwords        = stopwords,\n",
    "          width            = 900, height = 400).generate(' '.join(df_housing['name'])).to_image()"
   ]
  },
  {
   "cell_type": "code",
   "execution_count": null,
   "metadata": {
    "scrolled": true
   },
   "outputs": [],
   "source": [
    "# From variable `geotag` extract latitude and longitude\n",
    "\n",
    "# Copy original \n",
    "temp = df_housing.copy()\n",
    "temp = df_housing.dropna(subset = [\"geotag\"])\n",
    "\n",
    "temp['lat'] = temp.geotag.apply(lambda v: v[0])\n",
    "temp['lon'] = temp.geotag.apply(lambda v: v[1])\n",
    "\n",
    "# For a discrete legend: convert `bedrooms` to an object\n",
    "temp.bedrooms = temp.bedrooms.fillna(0).astype(object)\n",
    "\n",
    "# Points map across Pittsburgh\n",
    "fig = px.scatter_mapbox(temp, \n",
    "                        lat        = \"lat\", \n",
    "                        lon        = \"lon\", \n",
    "                        color      = \"bedrooms\",\n",
    "                        size       = \"price\",\n",
    "                        hover_data = [\"area\"],\n",
    "                        labels     = {\"price\": \"Price ($) \", \"area\": \"Area (ft2) \", \"bedrooms\": \"Bedrooms\"},\n",
    "                        zoom       = 12, \n",
    "                        width      = 950, height = 500)\n",
    "fig.update_layout(mapbox_style     = \"carto-positron\",\n",
    "                  margin           = {\"r\":0, \"t\":0, \"l\":0, \"b\":0})\n",
    "fig.show()"
   ]
  },
  {
   "cell_type": "markdown",
   "metadata": {},
   "source": [
    "### Is somebody wanting to connect with you?\n",
    "#### Case study: Pittsburgh"
   ]
  },
  {
   "cell_type": "code",
   "execution_count": null,
   "metadata": {},
   "outputs": [],
   "source": [
    "# Show filters\n",
    "cl.CraigslistCommunity.show_filters()"
   ]
  },
  {
   "cell_type": "code",
   "execution_count": null,
   "metadata": {},
   "outputs": [],
   "source": [
    "# Define filters \n",
    "filters = {\"bundle_duplicates\" : True, \n",
    "           \"search_distance\"   : 5,\n",
    "           \"zip_code\"          : 15289}\n",
    "\n",
    "# Filter the Craigslist object\n",
    "# Sort by newest and add location (longitute and latitude)\n",
    "cl_missing = cl.CraigslistCommunity(site = \"pittsburgh\", category = \"mis\", filters = filters)\n",
    "results = cl_missing.get_results(sort_by = 'newest', geotagged = True)"
   ]
  },
  {
   "cell_type": "code",
   "execution_count": null,
   "metadata": {},
   "outputs": [],
   "source": [
    "# Create and populate a list\n",
    "# Try and except let the loop run until it's permitted (> 3,000)\n",
    "# This might take some minutes\n",
    "df_missing = []\n",
    "for i in results: \n",
    "    try:    \n",
    "        df_missing.append(i)\n",
    "    except: \n",
    "        pass"
   ]
  },
  {
   "cell_type": "code",
   "execution_count": null,
   "metadata": {},
   "outputs": [],
   "source": [
    "# Number of results ~ 90\n",
    "len(df_missing)"
   ]
  },
  {
   "cell_type": "code",
   "execution_count": null,
   "metadata": {},
   "outputs": [],
   "source": [
    "# Transform df_housing list to a pandas DataFrame in order to use plotly.express\n",
    "df_missing = pd.DataFrame(df_missing)"
   ]
  },
  {
   "cell_type": "code",
   "execution_count": null,
   "metadata": {},
   "outputs": [],
   "source": [
    "# Scrapping \n",
    "\n",
    "# Pattern regex\n",
    "pat = re.compile(r'QR Code Link to This Post\\n\\n\\n(\\[w.]+)*')\n",
    "\n",
    "# Create list with post \n",
    "col_text = []\n",
    "for i in df_missing.url:\n",
    "    response  = get(str(i))\n",
    "    html_soup = BeautifulSoup(response.text, 'html.parser')\n",
    "    val      = html_soup.find('section', id = 'postingbody')\n",
    "    if val == None:\n",
    "        col_text.append(\"NA\")\n",
    "    else:\n",
    "        val = val.text\n",
    "        col_text.append(re.split(pat, val)[2])\n",
    "\n",
    "# Add column to Dataframe\n",
    "df_missing['text'] = col_text"
   ]
  },
  {
   "cell_type": "code",
   "execution_count": null,
   "metadata": {},
   "outputs": [],
   "source": [
    "# Text analysis\n",
    "\n",
    "# List of all words\n",
    "words = ''\n",
    "for i in col_text: words = words + i\n",
    "\n",
    "# Remove punctuation\n",
    "wordsPunct = RegexpTokenizer(r'\\w+')\n",
    "words      = wordsPunct.tokenize(words)\n",
    "\n",
    "wordsList = ''\n",
    "for i in words: wordsList = wordsList + ' ' + i\n",
    "\n",
    "# Word tokenize\n",
    "wordToken = word_tokenize(wordsList)\n",
    "\n",
    "# Remove stop words\n",
    "stopW      = set(stopwords.words('english'))\n",
    "wordFilter = [i for i in wordToken if i not in stopW]\n",
    "\n",
    "# Generate tags\n",
    "# The library contains different tags for nouns, adjectives, verbs, etc.\n",
    "# We are focuing just on nouns and adjectives\n",
    "wordTag     = nltk.pos_tag(wordFilter)\n",
    "wordTagNoun = [i[0] for i in wordTag if i[1] == 'NN' and len(i[0]) > 1]\n",
    "wordTagAdj  = [i[0] for i in wordTag if i[1] == 'JJ' and len(i[0]) > 1]\n",
    "\n",
    "# Calculate frequency of words\n",
    "# Convert to pd.DataFrame\n",
    "freqNoun = FreqDist(wordTagNoun)\n",
    "freqAdj  = FreqDist(wordTagAdj)"
   ]
  },
  {
   "cell_type": "code",
   "execution_count": null,
   "metadata": {},
   "outputs": [],
   "source": [
    "# Cumulative Frequency of Nouns\n",
    "freqNoun.plot(30, cumulative = False)\n",
    "plt.show()"
   ]
  },
  {
   "cell_type": "code",
   "execution_count": null,
   "metadata": {},
   "outputs": [],
   "source": [
    "# Cumulative Frequency of Adjectives\n",
    "freqAdj.plot(30, cumulative = False)\n",
    "plt.show()"
   ]
  },
  {
   "cell_type": "code",
   "execution_count": null,
   "metadata": {},
   "outputs": [],
   "source": [
    "# Search if you're in missing connections\n",
    "def word_search(loc, wordList):\n",
    "    words = ''\n",
    "    for i in wordList: words = words + '(?=.*' + i + ')'\n",
    "    words \n",
    "    \n",
    "    df_filter = df_missing[df_missing.text.str.contains(words, regex = True, case = False)]\n",
    "    \n",
    "    df_fig = pd.DataFrame(df_filter.geotag.dropna())\n",
    "    \n",
    "    df_fig['lat'] = df_fig.geotag.apply(lambda v: v[0])\n",
    "    df_fig['lon'] = df_fig.geotag.apply(lambda v: v[1])\n",
    "    df_fig['col'] = 1\n",
    "    df_fig['siz'] = 5\n",
    "    \n",
    "    df_fig.loc[df_fig.shape[0]] = [None] + loc + [0, 10]\n",
    "    df_fig.col = df_fig.col.astype(object)\n",
    "    \n",
    "    fig = px.scatter_mapbox(df_fig, \n",
    "                            lat = \"lat\", \n",
    "                            lon = \"lon\", \n",
    "                            color = \"col\", \n",
    "                            size = \"siz\", size_max = 30, \n",
    "                            zoom = 11, \n",
    "                            width = 950, height = 500)\n",
    "    fig.update_layout(mapbox_style = \"carto-positron\", margin = {\"r\":0, \"t\":0, \"l\":0, \"b\":0})\n",
    "    \n",
    "    return df_filter, fig"
   ]
  },
  {
   "cell_type": "code",
   "execution_count": null,
   "metadata": {},
   "outputs": [],
   "source": [
    "# Find your location on https://www.latlong.net/convert-address-to-lat-long.html\n",
    "geoLoc = [40.453150, -79.953920]\n",
    "opts   = ['girls','18','27']\n",
    "opts   = ['lady']\n",
    "opts   = ['women']\n",
    "opts   = ['guy']\n",
    "opts   = ['tall','italian']\n",
    "\n",
    "df, fig = word_search(geoLoc, opts)"
   ]
  },
  {
   "cell_type": "code",
   "execution_count": null,
   "metadata": {},
   "outputs": [],
   "source": [
    "fig.show()"
   ]
  },
  {
   "cell_type": "code",
   "execution_count": null,
   "metadata": {},
   "outputs": [],
   "source": [
    "list(df.text)"
   ]
  },
  {
   "cell_type": "markdown",
   "metadata": {},
   "source": [
    "## <a id = \"con\">Conclusion</a>"
   ]
  },
  {
   "cell_type": "markdown",
   "metadata": {},
   "source": [
    "## <a id = \"ref\">References</a>\n",
    "\n",
    "* https://pypi.org/project/python-craigslist/\n",
    "* https://github.com/juliomalegria/python-craigslist\n",
    "* https://pittsburgh.craigslist.org/\n",
    "* https://plot.ly/python/plotly-express/\n",
    "* https://coolors.co/app\n",
    "* https://www.data.camp.com/community.tutorials/text-analytics-beginners-nltk\n",
    "* Web scrapping: https://towardsdatascience.com/web-scraping-craigslist-a-complete-tutorial-c41cea4f4981"
   ]
  },
  {
   "cell_type": "markdown",
   "metadata": {},
   "source": [
    "## <a id = \"anx\">Annexes:</a>"
   ]
  },
  {
   "cell_type": "markdown",
   "metadata": {},
   "source": [
    "### <a id = \"plt\">Plotly</a>"
   ]
  },
  {
   "cell_type": "code",
   "execution_count": null,
   "metadata": {},
   "outputs": [],
   "source": [
    "#Other options:\n",
    "#- To normalize the histogram we can ass options such as `histnorm = 'probability density'`\n",
    "#- Change color: color_discrete_sequence  = [\"#59344F\"]\n",
    "\n",
    "# Not continous bars: cuts per observations\n",
    "px.bar(df_housing, \n",
    "       x      = \"bedrooms\",\n",
    "       title  = \"Number of bedrooms\",\n",
    "       labels = {\"bedrooms\": \"Bedrooms\"},\n",
    "       width  = 900, height = 500).show()\n",
    "\n",
    "# For one box plot\n",
    "px.box(df_housing,\n",
    "       y = \"area\",\n",
    "       points = \"all\",\n",
    "       width  = 400, height = 400).show()\n",
    "\n",
    "# Scatter plot Price vs. Area\n",
    "px.scatter(df_housing.dropna(), \n",
    "           x     = \"area\", \n",
    "           y     = \"price\", \n",
    "           trendline = 'ols',\n",
    "           width = 900, height = 400).show()"
   ]
  }
 ],
 "metadata": {
  "kernelspec": {
   "display_name": "Python 3",
   "language": "python",
   "name": "python3"
  },
  "language_info": {
   "codemirror_mode": {
    "name": "ipython",
    "version": 3
   },
   "file_extension": ".py",
   "mimetype": "text/x-python",
   "name": "python",
   "nbconvert_exporter": "python",
   "pygments_lexer": "ipython3",
   "version": "3.7.3"
  }
 },
 "nbformat": 4,
 "nbformat_minor": 2
}
