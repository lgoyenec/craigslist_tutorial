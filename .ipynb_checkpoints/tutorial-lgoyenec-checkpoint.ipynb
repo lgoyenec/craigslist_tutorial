{
 "cells": [
  {
   "cell_type": "markdown",
   "metadata": {},
   "source": [
    "# Craiglist Library\n",
    "## Analysis of Craiglist data\n",
    "\n",
    "Laura Goyeneche <br>\n",
    "MSPPM Data Analytics '20 <br>\n",
    "Heinz College <br>\n",
    "Carnegie Mellon University <br>\n",
    "\n",
    "***\n",
    "### First steps\n",
    "#### 1. Libraries installation\n"
   ]
  },
  {
   "cell_type": "raw",
   "metadata": {},
   "source": [
    "pip install python-craigslist\n",
    "pip install plotly==4.1.0"
   ]
  },
  {
   "cell_type": "markdown",
   "metadata": {},
   "source": [
    "#### 2. Identify category of interest"
   ]
  }
 ],
 "metadata": {
  "kernelspec": {
   "display_name": "Python 3",
   "language": "python",
   "name": "python3"
  },
  "language_info": {
   "codemirror_mode": {
    "name": "ipython",
    "version": 3
   },
   "file_extension": ".py",
   "mimetype": "text/x-python",
   "name": "python",
   "nbconvert_exporter": "python",
   "pygments_lexer": "ipython3",
   "version": "3.7.3"
  }
 },
 "nbformat": 4,
 "nbformat_minor": 2
}
