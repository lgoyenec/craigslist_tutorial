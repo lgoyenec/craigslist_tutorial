{
 "cells": [
  {
   "cell_type": "code",
   "execution_count": 1,
   "metadata": {},
   "outputs": [],
   "source": [
    "# Craigslist\n",
    "import craigslist as cl\n",
    "\n",
    "# Plotly\n",
    "import plotly\n",
    "import plotly.io as pio\n",
    "import plotly.express as px\n",
    "import plotly.graph_objects as go\n",
    "from plotly.subplots import make_subplots\n",
    "from plotly.tools import FigureFactory as ff\n",
    "\n",
    "# Word Cloud\n",
    "import wordcloud\n",
    "from wordcloud import WordCloud\n",
    "\n",
    "# Other.\n",
    "import pandas as pd\n",
    "import numpy as np\n",
    "\n",
    "pio.renderers.default = \"notebook_connected\""
   ]
  },
  {
   "cell_type": "code",
   "execution_count": 5,
   "metadata": {},
   "outputs": [],
   "source": [
    "# Define filters \n",
    "filters = {\"bundle_duplicates\" : True, \n",
    "           \"search_distance\"   : 5,\n",
    "           \"zip_code\"          : 15289}\n",
    "\n",
    "# Filter the Craigslist object\n",
    "# Sort by newest and add location (longitute and latitude)\n",
    "cl_missing = cl.CraigslistCommunity(site = \"pittsburgh\", category = \"mis\", filters = filters)\n",
    "results = cl_missing.get_results(sort_by = 'newest', geotagged = True)"
   ]
  },
  {
   "cell_type": "code",
   "execution_count": 6,
   "metadata": {},
   "outputs": [],
   "source": [
    "# Create and populate a list\n",
    "# Try and except let the loop run until it's permitted (> 3,000)\n",
    "# This might take some minutes\n",
    "df_missing = []\n",
    "for i in results: \n",
    "    try:    \n",
    "        df_missing.append(i)\n",
    "    except: \n",
    "        pass"
   ]
  },
  {
   "cell_type": "code",
   "execution_count": 7,
   "metadata": {},
   "outputs": [
    {
     "data": {
      "text/plain": [
       "98"
      ]
     },
     "execution_count": 7,
     "metadata": {},
     "output_type": "execute_result"
    }
   ],
   "source": [
    "# Number of results ~ 90\n",
    "len(df_missing)"
   ]
  },
  {
   "cell_type": "code",
   "execution_count": 8,
   "metadata": {},
   "outputs": [],
   "source": [
    "# Transform df_housing list to a pandas DataFrame in order to use plotly.express\n",
    "df_missing = pd.DataFrame(df_missing)"
   ]
  },
  {
   "cell_type": "code",
   "execution_count": 9,
   "metadata": {},
   "outputs": [
    {
     "data": {
      "text/plain": [
       "Index(['datetime', 'geotag', 'has_image', 'id', 'last_updated', 'name',\n",
       "       'price', 'repost_of', 'url', 'where'],\n",
       "      dtype='object')"
      ]
     },
     "execution_count": 9,
     "metadata": {},
     "output_type": "execute_result"
    }
   ],
   "source": [
    "# Get data columns\n",
    "df_missing.columns"
   ]
  },
  {
   "cell_type": "code",
   "execution_count": 10,
   "metadata": {},
   "outputs": [
    {
     "data": {
      "text/html": [
       "<div>\n",
       "<style scoped>\n",
       "    .dataframe tbody tr th:only-of-type {\n",
       "        vertical-align: middle;\n",
       "    }\n",
       "\n",
       "    .dataframe tbody tr th {\n",
       "        vertical-align: top;\n",
       "    }\n",
       "\n",
       "    .dataframe thead th {\n",
       "        text-align: right;\n",
       "    }\n",
       "</style>\n",
       "<table border=\"1\" class=\"dataframe\">\n",
       "  <thead>\n",
       "    <tr style=\"text-align: right;\">\n",
       "      <th></th>\n",
       "      <th>datetime</th>\n",
       "      <th>geotag</th>\n",
       "      <th>has_image</th>\n",
       "      <th>id</th>\n",
       "      <th>last_updated</th>\n",
       "      <th>name</th>\n",
       "      <th>price</th>\n",
       "      <th>repost_of</th>\n",
       "      <th>url</th>\n",
       "      <th>where</th>\n",
       "    </tr>\n",
       "  </thead>\n",
       "  <tbody>\n",
       "    <tr>\n",
       "      <th>0</th>\n",
       "      <td>2019-10-13 21:39</td>\n",
       "      <td>(40.440682, -80.002441)</td>\n",
       "      <td>False</td>\n",
       "      <td>6996292689</td>\n",
       "      <td>2019-10-13 21:39</td>\n",
       "      <td>Cute College girl</td>\n",
       "      <td>None</td>\n",
       "      <td>None</td>\n",
       "      <td>https://pittsburgh.craigslist.org/mis/d/pittsb...</td>\n",
       "      <td>Near market sq</td>\n",
       "    </tr>\n",
       "    <tr>\n",
       "      <th>1</th>\n",
       "      <td>2019-10-13 21:01</td>\n",
       "      <td>(40.483265, -80.012054)</td>\n",
       "      <td>False</td>\n",
       "      <td>6998957228</td>\n",
       "      <td>2019-10-13 21:01</td>\n",
       "      <td>Massage</td>\n",
       "      <td>None</td>\n",
       "      <td>None</td>\n",
       "      <td>https://pittsburgh.craigslist.org/mis/d/pittsb...</td>\n",
       "      <td>North</td>\n",
       "    </tr>\n",
       "    <tr>\n",
       "      <th>2</th>\n",
       "      <td>2019-10-13 20:52</td>\n",
       "      <td>(40.494743, -79.908714)</td>\n",
       "      <td>False</td>\n",
       "      <td>6998962097</td>\n",
       "      <td>2019-10-13 20:52</td>\n",
       "      <td>Missing you</td>\n",
       "      <td>None</td>\n",
       "      <td>None</td>\n",
       "      <td>https://pittsburgh.craigslist.org/mis/d/pittsb...</td>\n",
       "      <td>Pittsburgh</td>\n",
       "    </tr>\n",
       "    <tr>\n",
       "      <th>3</th>\n",
       "      <td>2019-10-13 17:20</td>\n",
       "      <td>(40.5051, -79.9528)</td>\n",
       "      <td>False</td>\n",
       "      <td>6993263387</td>\n",
       "      <td>2019-10-13 17:20</td>\n",
       "      <td>Older male virgin for female</td>\n",
       "      <td>None</td>\n",
       "      <td>None</td>\n",
       "      <td>https://pittsburgh.craigslist.org/mis/d/pittsb...</td>\n",
       "      <td>None</td>\n",
       "    </tr>\n",
       "    <tr>\n",
       "      <th>4</th>\n",
       "      <td>2019-10-13 15:08</td>\n",
       "      <td>(40.4752, -79.9528)</td>\n",
       "      <td>False</td>\n",
       "      <td>6998764456</td>\n",
       "      <td>2019-10-13 15:08</td>\n",
       "      <td>any women want to 69?</td>\n",
       "      <td>None</td>\n",
       "      <td>None</td>\n",
       "      <td>https://pittsburgh.craigslist.org/mis/d/pittsb...</td>\n",
       "      <td>your place or where ever</td>\n",
       "    </tr>\n",
       "  </tbody>\n",
       "</table>\n",
       "</div>"
      ],
      "text/plain": [
       "           datetime                   geotag  has_image          id  \\\n",
       "0  2019-10-13 21:39  (40.440682, -80.002441)      False  6996292689   \n",
       "1  2019-10-13 21:01  (40.483265, -80.012054)      False  6998957228   \n",
       "2  2019-10-13 20:52  (40.494743, -79.908714)      False  6998962097   \n",
       "3  2019-10-13 17:20      (40.5051, -79.9528)      False  6993263387   \n",
       "4  2019-10-13 15:08      (40.4752, -79.9528)      False  6998764456   \n",
       "\n",
       "       last_updated                          name price repost_of  \\\n",
       "0  2019-10-13 21:39             Cute College girl  None      None   \n",
       "1  2019-10-13 21:01                       Massage  None      None   \n",
       "2  2019-10-13 20:52                   Missing you  None      None   \n",
       "3  2019-10-13 17:20  Older male virgin for female  None      None   \n",
       "4  2019-10-13 15:08         any women want to 69?  None      None   \n",
       "\n",
       "                                                 url                     where  \n",
       "0  https://pittsburgh.craigslist.org/mis/d/pittsb...            Near market sq  \n",
       "1  https://pittsburgh.craigslist.org/mis/d/pittsb...                     North  \n",
       "2  https://pittsburgh.craigslist.org/mis/d/pittsb...                Pittsburgh  \n",
       "3  https://pittsburgh.craigslist.org/mis/d/pittsb...                      None  \n",
       "4  https://pittsburgh.craigslist.org/mis/d/pittsb...  your place or where ever  "
      ]
     },
     "execution_count": 10,
     "metadata": {},
     "output_type": "execute_result"
    }
   ],
   "source": [
    "df_missing.head()"
   ]
  },
  {
   "cell_type": "code",
   "execution_count": 13,
   "metadata": {},
   "outputs": [],
   "source": [
    "from requests import get\n",
    "from bs4 import BeautifulSoup\n",
    "import re"
   ]
  },
  {
   "cell_type": "code",
   "execution_count": 54,
   "metadata": {},
   "outputs": [],
   "source": [
    "response = get('https://pittsburgh.craigslist.org/mis/d/pittsburgh-girl-on-the-steps/6990495456.html')"
   ]
  },
  {
   "cell_type": "code",
   "execution_count": 55,
   "metadata": {},
   "outputs": [],
   "source": [
    "html_soup = BeautifulSoup(response.text, 'html.parser')"
   ]
  },
  {
   "cell_type": "code",
   "execution_count": 56,
   "metadata": {},
   "outputs": [
    {
     "data": {
      "text/plain": [
       "<section id=\"postingbody\">\n",
       "<div class=\"print-information print-qrcode-container\">\n",
       "<p class=\"print-qrcode-label\">QR Code Link to This Post</p>\n",
       "<div class=\"print-qrcode\" data-location=\"https://pittsburgh.craigslist.org/mis/d/pittsburgh-girl-on-the-steps/6990495456.html\"></div>\n",
       "</div>\n",
       "hi you waved at me on the steps and i didnt wave back because i was trying to figure out who you were but then i waved back and smiled and you got excited and waved back and smiled and it was a nice moment but my eyes were all fucked up because i had just woken uop and i couldnt get a good look and so im afraid im not entirely sure who you were. you had blonde hair i believe and this was on the steps up to purnell after the beep boop i had just crossed the beep boop and you were heading towards the beep boop i was wearing my glasses and you might have been wearing like a light blue and i havent stopped thinking about you please get in contact    </section>"
      ]
     },
     "execution_count": 56,
     "metadata": {},
     "output_type": "execute_result"
    }
   ],
   "source": [
    "ex1 = html_soup.find('section', id = 'postingbody')\n",
    "ex1"
   ]
  },
  {
   "cell_type": "code",
   "execution_count": 57,
   "metadata": {},
   "outputs": [
    {
     "data": {
      "text/plain": [
       "'\\n\\nQR Code Link to This Post\\n\\n\\nhi you waved at me on the steps and i didnt wave back because i was trying to figure out who you were but then i waved back and smiled and you got excited and waved back and smiled and it was a nice moment but my eyes were all fucked up because i had just woken uop and i couldnt get a good look and so im afraid im not entirely sure who you were. you had blonde hair i believe and this was on the steps up to purnell after the beep boop i had just crossed the beep boop and you were heading towards the beep boop i was wearing my glasses and you might have been wearing like a light blue and i havent stopped thinking about you please get in contact    '"
      ]
     },
     "execution_count": 57,
     "metadata": {},
     "output_type": "execute_result"
    }
   ],
   "source": [
    "ex1.text"
   ]
  },
  {
   "cell_type": "code",
   "execution_count": 18,
   "metadata": {},
   "outputs": [
    {
     "data": {
      "text/plain": [
       "'hi you waved at me on the steps and i didnt wave back because i was trying to figure out who you were but then i waved back and smiled and you got excited and waved back and smiled and it was a nice moment but my eyes were all fucked up because i had just woken uop and i couldnt get a good look and so im afraid im not entirely sure who you were. you had blonde hair i believe and this was on the steps up to purnell after the beep boop i had just crossed the beep boop and you were heading towards the beep boop i was wearing my glasses and you might have been wearing like a light blue and i havent stopped thinking about you please get in contact    '"
      ]
     },
     "execution_count": 18,
     "metadata": {},
     "output_type": "execute_result"
    }
   ],
   "source": [
    "pat = re.compile(r'\\n(\\w.+)\\s+')\n",
    "re.split(pat, ex1.text)[2]"
   ]
  },
  {
   "cell_type": "code",
   "execution_count": 19,
   "metadata": {},
   "outputs": [
    {
     "data": {
      "text/plain": [
       "\"\\n\\nQR Code Link to This Post\\n\\n\\nYou were way up on the 8th floor. You looked down at me and waved. I wanted to wave back but I was feeling shy. Want to invite me up? Tell me what I was driving so I know it's you.    \""
      ]
     },
     "execution_count": 19,
     "metadata": {},
     "output_type": "execute_result"
    }
   ],
   "source": [
    "response = get('https://pittsburgh.craigslist.org/mis/d/pittsburgh-webster-hall-apartments-m4w/6997631286.html')\n",
    "html_soup = BeautifulSoup(response.text, 'html.parser')\n",
    "ex2 = html_soup.find('section', id = 'postingbody')\n",
    "ex2.text"
   ]
  },
  {
   "cell_type": "code",
   "execution_count": 20,
   "metadata": {},
   "outputs": [
    {
     "data": {
      "text/plain": [
       "\"You were way up on the 8th floor. You looked down at me and waved. I wanted to wave back but I was feeling shy. Want to invite me up? Tell me what I was driving so I know it's you.    \""
      ]
     },
     "execution_count": 20,
     "metadata": {},
     "output_type": "execute_result"
    }
   ],
   "source": [
    "re.split(pat, ex2.text)[2]"
   ]
  },
  {
   "cell_type": "code",
   "execution_count": 101,
   "metadata": {},
   "outputs": [],
   "source": [
    "pat      = re.compile(r'QR Code Link to This Post\\n\\n\\n(\\[w.]+)*')\n",
    "col_text = []\n",
    "for i in df_missing.url:\n",
    "    response  = get(str(i))\n",
    "    html_soup = BeautifulSoup(response.text, 'html.parser')\n",
    "    val      = html_soup.find('section', id = 'postingbody')\n",
    "    if val == None:\n",
    "        col_text.append(\"NA\")\n",
    "    else:\n",
    "        val = val.text\n",
    "        col_text.append(re.split(pat, val)[2])"
   ]
  },
  {
   "cell_type": "code",
   "execution_count": 102,
   "metadata": {},
   "outputs": [
    {
     "data": {
      "text/plain": [
       "98"
      ]
     },
     "execution_count": 102,
     "metadata": {},
     "output_type": "execute_result"
    }
   ],
   "source": [
    "len(col_text)"
   ]
  },
  {
   "cell_type": "code",
   "execution_count": 103,
   "metadata": {},
   "outputs": [],
   "source": [
    "df_missing['text'] = col_text"
   ]
  },
  {
   "cell_type": "code",
   "execution_count": 152,
   "metadata": {},
   "outputs": [
    {
     "name": "stderr",
     "output_type": "stream",
     "text": [
      "[nltk_data] Downloading package averaged_perceptron_tagger to\n",
      "[nltk_data]     C:\\Users\\lgoye\\AppData\\Roaming\\nltk_data...\n",
      "[nltk_data]   Package averaged_perceptron_tagger is already up-to-\n",
      "[nltk_data]       date!\n"
     ]
    },
    {
     "data": {
      "text/plain": [
       "True"
      ]
     },
     "execution_count": 152,
     "metadata": {},
     "output_type": "execute_result"
    }
   ],
   "source": [
    "from nltk.tokenize import word_tokenize\n",
    "nltk.download('averaged_perceptron_tagger')"
   ]
  },
  {
   "cell_type": "code",
   "execution_count": 143,
   "metadata": {},
   "outputs": [],
   "source": [
    "todo = ''\n",
    "for i in col_text: todo = todo + i"
   ]
  },
  {
   "cell_type": "code",
   "execution_count": 178,
   "metadata": {},
   "outputs": [],
   "source": [
    "from nltk.tokenize import RegexpTokenizer\n",
    "tokenizer = RegexpTokenizer(r'\\w+')\n",
    "todo_fin = tokenizer.tokenize(todo)\n",
    "tod = ''\n",
    "for i in todo_fin: tod = tod + ' ' + i"
   ]
  },
  {
   "cell_type": "code",
   "execution_count": 181,
   "metadata": {},
   "outputs": [],
   "source": [
    "ex = word_tokenize(tod)"
   ]
  },
  {
   "cell_type": "code",
   "execution_count": 428,
   "metadata": {},
   "outputs": [
    {
     "data": {
      "text/plain": [
       "0"
      ]
     },
     "execution_count": 428,
     "metadata": {},
     "output_type": "execute_result"
    }
   ],
   "source": [
    "from nltk.probability import FreqDist\n",
    "fdist = FreqDist(ex)\n",
    "fdist.most_common(2)"
   ]
  },
  {
   "cell_type": "code",
   "execution_count": 1,
   "metadata": {},
   "outputs": [
    {
     "ename": "NameError",
     "evalue": "name 'fdist' is not defined",
     "output_type": "error",
     "traceback": [
      "\u001b[1;31m---------------------------------------------------------------------------\u001b[0m",
      "\u001b[1;31mNameError\u001b[0m                                 Traceback (most recent call last)",
      "\u001b[1;32m<ipython-input-1-580ebf336c5a>\u001b[0m in \u001b[0;36m<module>\u001b[1;34m\u001b[0m\n\u001b[0;32m      1\u001b[0m \u001b[1;32mimport\u001b[0m \u001b[0mmatplotlib\u001b[0m\u001b[1;33m.\u001b[0m\u001b[0mpyplot\u001b[0m \u001b[1;32mas\u001b[0m \u001b[0mplt\u001b[0m\u001b[1;33m\u001b[0m\u001b[1;33m\u001b[0m\u001b[0m\n\u001b[1;32m----> 2\u001b[1;33m \u001b[0mfdist\u001b[0m\u001b[1;33m.\u001b[0m\u001b[0mplot\u001b[0m\u001b[1;33m(\u001b[0m\u001b[1;36m30\u001b[0m\u001b[1;33m,\u001b[0m \u001b[0mcumulative\u001b[0m \u001b[1;33m=\u001b[0m \u001b[1;32mFalse\u001b[0m\u001b[1;33m)\u001b[0m\u001b[1;33m\u001b[0m\u001b[1;33m\u001b[0m\u001b[0m\n\u001b[0m\u001b[0;32m      3\u001b[0m \u001b[0mplt\u001b[0m\u001b[1;33m.\u001b[0m\u001b[0mfigure\u001b[0m\u001b[1;33m(\u001b[0m\u001b[0mfigsize\u001b[0m\u001b[1;33m=\u001b[0m\u001b[1;33m(\u001b[0m\u001b[1;36m18\u001b[0m\u001b[1;33m,\u001b[0m \u001b[1;36m16\u001b[0m\u001b[1;33m)\u001b[0m\u001b[1;33m)\u001b[0m\u001b[1;33m\u001b[0m\u001b[1;33m\u001b[0m\u001b[0m\n\u001b[0;32m      4\u001b[0m \u001b[0mplt\u001b[0m\u001b[1;33m.\u001b[0m\u001b[0mshow\u001b[0m\u001b[1;33m(\u001b[0m\u001b[1;33m)\u001b[0m\u001b[1;33m\u001b[0m\u001b[1;33m\u001b[0m\u001b[0m\n",
      "\u001b[1;31mNameError\u001b[0m: name 'fdist' is not defined"
     ]
    }
   ],
   "source": [
    "import matplotlib.pyplot as plt\n",
    "fdist.plot(30, cumulative = False)\n",
    "plt.figure(figsize=(18, 16))\n",
    "plt.show()"
   ]
  },
  {
   "cell_type": "code",
   "execution_count": 184,
   "metadata": {},
   "outputs": [],
   "source": [
    "from nltk.corpus import stopwords\n",
    "stopW = set(stopwords.words('english'))"
   ]
  },
  {
   "cell_type": "code",
   "execution_count": 185,
   "metadata": {},
   "outputs": [
    {
     "data": {
      "image/png": "[encoded data removed]",
      "text/plain": [
       "<Figure size 432x288 with 1 Axes>"
      ]
     },
     "metadata": {
      "needs_background": "light"
     },
     "output_type": "display_data"
    }
   ],
   "source": [
    "filt = [i for i in ex if i not in stopW]\n",
    "fdist = FreqDist(filt)\n",
    "fdist.plot(30, cumulative = False)\n",
    "plt.show()"
   ]
  },
  {
   "cell_type": "code",
   "execution_count": 429,
   "metadata": {},
   "outputs": [],
   "source": [
    "tag = nltk.pos_tag(filt)"
   ]
  },
  {
   "cell_type": "code",
   "execution_count": 430,
   "metadata": {},
   "outputs": [
    {
     "data": {
      "text/plain": [
       "[('Me', 'NNP'), ('tall', 'JJ'), ('guy', 'NN'), ('dark', 'JJ'), ('hair', 'NN')]"
      ]
     },
     "execution_count": 430,
     "metadata": {},
     "output_type": "execute_result"
    }
   ],
   "source": [
    "tag[:5]"
   ]
  },
  {
   "cell_type": "code",
   "execution_count": 431,
   "metadata": {},
   "outputs": [],
   "source": [
    "NN = [i[0] for i in tag if i[1] == 'NN' and len(i[0]) > 1]\n",
    "JJ = [i[0] for i in tag if i[1] == 'JJ' and len(i[0]) > 1]"
   ]
  },
  {
   "cell_type": "code",
   "execution_count": 432,
   "metadata": {},
   "outputs": [],
   "source": [
    "fdNN = FreqDist(NN)\n",
    "fdJJ = FreqDist(JJ)"
   ]
  },
  {
   "cell_type": "code",
   "execution_count": null,
   "metadata": {},
   "outputs": [],
   "source": []
  },
  {
   "cell_type": "code",
   "execution_count": 433,
   "metadata": {},
   "outputs": [
    {
     "data": {
      "image/png": "[encoded data removed]",
      "text/plain": [
       "<Figure size 432x288 with 1 Axes>"
      ]
     },
     "metadata": {
      "needs_background": "light"
     },
     "output_type": "display_data"
    }
   ],
   "source": [
    "fdNN.plot(30, cumulative = False)\n",
    "plt.show()"
   ]
  },
  {
   "cell_type": "code",
   "execution_count": 434,
   "metadata": {},
   "outputs": [
    {
     "data": {
      "image/png": "[encoded data removed]",
      "text/plain": [
       "<Figure size 432x288 with 1 Axes>"
      ]
     },
     "metadata": {
      "needs_background": "light"
     },
     "output_type": "display_data"
    }
   ],
   "source": [
    "fdJJ.plot(30, cumulative = False)\n",
    "plt.show()"
   ]
  },
  {
   "cell_type": "code",
   "execution_count": 396,
   "metadata": {},
   "outputs": [
    {
     "data": {
      "text/plain": [
       "0     Me: tall guy, dark hair, late 30s\\nYou: cute b...\n",
       "1     It’s been awhile since we got together.  You h...\n",
       "2     JG, I miss you.  Not sure if you’re ready yet,...\n",
       "3                                                    NA\n",
       "4     any white 18 to 27 year old girls want to 69 w...\n",
       "5     67 yrs old Male looking for a Female to hangou...\n",
       "6     clpgh main nose ring possessed by such towerin...\n",
       "7     I can be sort of a smartass but it is just my ...\n",
       "8     Not far from carlow serious real legit have no...\n",
       "9     You asked my buddy and i about an app for trai...\n",
       "10    You were way up on the 8th floor. You looked d...\n",
       "11    I saw you. The cute lady checking me out from ...\n",
       "12    You know who you are. Missed my chance at your...\n",
       "13    Miss the chatting & flirting throughout the da...\n",
       "14    You two were buying totes.  Couldn't take my e...\n",
       "15    I am going to be getting a VIP table at Ricks ...\n",
       "16    Great day for a drive, or a ride, lets see who...\n",
       "17    whats your idea of fun? Dirtier the better, co...\n",
       "18    Had a male and female respond so not sure who ...\n",
       "19    I saw you walking out of a beer distributor a ...\n",
       "20    Not a hookup just dinner and conversation \\n\\n...\n",
       "21    M4W \\n\\nNot a hookup just dinner and conversat...\n",
       "22    It's your job to be nice of course but you see...\n",
       "23    I'm back in Oakland, any lady wants to grab lu...\n",
       "24    I'd say love was a magical thing\\nI'd say love...\n",
       "25    Hello how was your weekend? I am home alone, j...\n",
       "26    Hi, I was in a pretty intense car accident on ...\n",
       "27    The two if you were shopping for movie night a...\n",
       "28    I cant find your real email address and didnt ...\n",
       "29    Looking for Jenna, she lived in Sharpsburg and...\n",
       "                            ...                        \n",
       "68    We know each other's names. I want to add your...\n",
       "69    Dont be on of those mister el grumpies no one ...\n",
       "70    I met a couple on the beach in Chios, then rec...\n",
       "71    knew you years ago would love too hear from yo...\n",
       "72    Thursday morning 9/5 around 10:30, you were si...\n",
       "73    I’m lookimg for a guy who I met at glaroi beac...\n",
       "74    Chad—\\nYour email disappeared before I could r...\n",
       "75    We were in the self checkout line, i let you g...\n",
       "76    We talked in several occasions.  Bought a drin...\n",
       "77    But all im worried bout is what kind of extrao...\n",
       "78    Was Thursday Sept 5th around 1pm. I was wearin...\n",
       "79    We are going to a game tomorrow 9/7 and lookin...\n",
       "80    Girls in Purple scrubs and denim jacket  that ...\n",
       "81    Wow, you looked fabulous.  I noticed you when ...\n",
       "82    Dont be on of those mister el grumpies no one ...\n",
       "83            Any females into Asians? 420 friendly    \n",
       "84    Looking for that tall, sexy, Italian man that ...\n",
       "85    Beautiful crazy Carrie met at Alpine had great...\n",
       "86    \\nHi... Or should I say, Hola? Lol hehe\\n\\nAlr...\n",
       "87    WM was driving on Greentree Road and saw you j...\n",
       "88    Plan to be in town Sept 9th for a few days.\\nW...\n",
       "89    Gave you a lift to Shadyside from the Pitt gam...\n",
       "90    You where looking around the store with some g...\n",
       "91    \\nHey...\\n\\nSo like firstly, this most is only...\n",
       "92    Want to go out and dance? Need a massage? Like...\n",
       "93    You helped me get out of the parking garage qu...\n",
       "94    Looking for a hug from a women of looking to g...\n",
       "95    You came over to me and another guy by my car....\n",
       "96    U were at the bar last night with ur friends a...\n",
       "97    We were both looking and I knew you wanted to ...\n",
       "Name: text, Length: 98, dtype: object"
      ]
     },
     "execution_count": 396,
     "metadata": {},
     "output_type": "execute_result"
    }
   ],
   "source": [
    "df_missing.text"
   ]
  },
  {
   "cell_type": "code",
   "execution_count": 371,
   "metadata": {},
   "outputs": [
    {
     "data": {
      "text/plain": [
       "1    It’s been awhile since we got together.  You h...\n",
       "Name: text, dtype: object"
      ]
     },
     "execution_count": 371,
     "metadata": {},
     "output_type": "execute_result"
    }
   ],
   "source": [
    "test = df_missing.text[:5]\n",
    "\n",
    "test[test.str.contains('(?=.*you)(?=.*since)', regex = True, case = False)]\n",
    "#test[test.str.contains('you|since', case = False)]\n",
    "\n",
    "#data[data['columnName'].str.contains(\"5|five\")]"
   ]
  },
  {
   "cell_type": "code",
   "execution_count": 370,
   "metadata": {},
   "outputs": [
    {
     "data": {
      "text/plain": [
       "'(?=.*YOU)(?=.*ME)'"
      ]
     },
     "execution_count": 370,
     "metadata": {},
     "output_type": "execute_result"
    }
   ],
   "source": [
    "f = [\"YOU\",\"ME\"]\n",
    "a = \"\"\n",
    "for i in f: a = a + '(?=.*' + i + ')'\n",
    "#a = '(?=.*' + i + ')\n"
   ]
  },
  {
   "cell_type": "code",
   "execution_count": 415,
   "metadata": {},
   "outputs": [],
   "source": [
    "def word_search(loc, wordList):\n",
    "    words = ''\n",
    "    for i in wordList: words = words + '(?=.*' + i + ')'\n",
    "    words \n",
    "    \n",
    "    df_filter = df_missing[df_missing.text.str.contains(words, regex = True, case = False)]\n",
    "    \n",
    "    df_fig = pd.DataFrame(df_filter.geotag.dropna())\n",
    "    \n",
    "    df_fig['lat'] = df_fig.geotag.apply(lambda v: v[0])\n",
    "    df_fig['lon'] = df_fig.geotag.apply(lambda v: v[1])\n",
    "    df_fig['col'] = 1\n",
    "    df_fig['siz'] = 5\n",
    "    \n",
    "    df_fig.loc[df_fig.shape[0]] = [None] + loc + [0, 10]\n",
    "    df_fig.col = df_fig.col.astype(object)\n",
    "    \n",
    "    fig = px.scatter_mapbox(df_fig, \n",
    "                            lat = \"lat\", \n",
    "                            lon = \"lon\", \n",
    "                            color = \"col\", \n",
    "                            size = \"siz\", size_max = 30, \n",
    "                            zoom = 11, \n",
    "                            width = 950, height = 500)\n",
    "    fig.update_layout(mapbox_style = \"carto-positron\", margin = {\"r\":0, \"t\":0, \"l\":0, \"b\":0})\n",
    "    \n",
    "    return df_filter, fig"
   ]
  },
  {
   "cell_type": "code",
   "execution_count": 423,
   "metadata": {},
   "outputs": [
    {
     "data": {
      "text/html": [
       "<div>\n",
       "        \n",
       "        \n",
       "            <div id=\"887ec3dc-2994-4945-b993-26d4bd636c88\" class=\"plotly-graph-div\" style=\"height:500px; width:950px;\"></div>\n",
       "            <script type=\"text/javascript\">\n",
       "                require([\"plotly\"], function(Plotly) {\n",
       "                    window.PLOTLYENV=window.PLOTLYENV || {};\n",
       "                    \n",
       "                if (document.getElementById(\"887ec3dc-2994-4945-b993-26d4bd636c88\")) {\n",
       "                    Plotly.newPlot(\n",
       "                        '887ec3dc-2994-4945-b993-26d4bd636c88',\n",
       "                        [{\"hoverlabel\": {\"namelength\": 0}, \"hovertemplate\": \"col=1.0<br>siz=%{marker.size}<br>lat=%{lat}<br>lon=%{lon}\", \"lat\": [40.4237], \"legendgroup\": \"col=1.0\", \"lon\": [-79.89], \"marker\": {\"color\": \"#636efa\", \"size\": [5.0], \"sizemode\": \"area\", \"sizeref\": 0.011111111111111112}, \"mode\": \"markers\", \"name\": \"col=1.0\", \"showlegend\": true, \"subplot\": \"mapbox\", \"type\": \"scattermapbox\"}, {\"hoverlabel\": {\"namelength\": 0}, \"hovertemplate\": \"col=0.0<br>siz=%{marker.size}<br>lat=%{lat}<br>lon=%{lon}\", \"lat\": [40.45315], \"legendgroup\": \"col=0.0\", \"lon\": [-79.95392], \"marker\": {\"color\": \"#EF553B\", \"size\": [10.0], \"sizemode\": \"area\", \"sizeref\": 0.011111111111111112}, \"mode\": \"markers\", \"name\": \"col=0.0\", \"showlegend\": true, \"subplot\": \"mapbox\", \"type\": \"scattermapbox\"}],\n",
       "                        {\"height\": 500, \"legend\": {\"itemsizing\": \"constant\", \"tracegroupgap\": 0}, \"mapbox\": {\"center\": {\"lat\": 40.438424999999995, \"lon\": -79.92196}, \"domain\": {\"x\": [0.0, 0.98], \"y\": [0.0, 1.0]}, \"style\": \"carto-positron\", \"zoom\": 11}, \"margin\": {\"b\": 0, \"l\": 0, \"r\": 0, \"t\": 0}, \"template\": {\"data\": {\"bar\": [{\"error_x\": {\"color\": \"#2a3f5f\"}, \"error_y\": {\"color\": \"#2a3f5f\"}, \"marker\": {\"line\": {\"color\": \"#E5ECF6\", \"width\": 0.5}}, \"type\": \"bar\"}], \"barpolar\": [{\"marker\": {\"line\": {\"color\": \"#E5ECF6\", \"width\": 0.5}}, \"type\": \"barpolar\"}], \"carpet\": [{\"aaxis\": {\"endlinecolor\": \"#2a3f5f\", \"gridcolor\": \"white\", \"linecolor\": \"white\", \"minorgridcolor\": \"white\", \"startlinecolor\": \"#2a3f5f\"}, \"baxis\": {\"endlinecolor\": \"#2a3f5f\", \"gridcolor\": \"white\", \"linecolor\": \"white\", \"minorgridcolor\": \"white\", \"startlinecolor\": \"#2a3f5f\"}, \"type\": \"carpet\"}], \"choropleth\": [{\"colorbar\": {\"outlinewidth\": 0, \"ticks\": \"\"}, \"type\": \"choropleth\"}], \"contour\": [{\"colorbar\": {\"outlinewidth\": 0, \"ticks\": \"\"}, \"colorscale\": [[0.0, \"#0d0887\"], [0.1111111111111111, \"#46039f\"], [0.2222222222222222, \"#7201a8\"], [0.3333333333333333, \"#9c179e\"], [0.4444444444444444, \"#bd3786\"], [0.5555555555555556, \"#d8576b\"], [0.6666666666666666, \"#ed7953\"], [0.7777777777777778, \"#fb9f3a\"], [0.8888888888888888, \"#fdca26\"], [1.0, \"#f0f921\"]], \"type\": \"contour\"}], \"contourcarpet\": [{\"colorbar\": {\"outlinewidth\": 0, \"ticks\": \"\"}, \"type\": \"contourcarpet\"}], \"heatmap\": [{\"colorbar\": {\"outlinewidth\": 0, \"ticks\": \"\"}, \"colorscale\": [[0.0, \"#0d0887\"], [0.1111111111111111, \"#46039f\"], [0.2222222222222222, \"#7201a8\"], [0.3333333333333333, \"#9c179e\"], [0.4444444444444444, \"#bd3786\"], [0.5555555555555556, \"#d8576b\"], [0.6666666666666666, \"#ed7953\"], [0.7777777777777778, \"#fb9f3a\"], [0.8888888888888888, \"#fdca26\"], [1.0, \"#f0f921\"]], \"type\": \"heatmap\"}], \"heatmapgl\": [{\"colorbar\": {\"outlinewidth\": 0, \"ticks\": \"\"}, \"colorscale\": [[0.0, \"#0d0887\"], [0.1111111111111111, \"#46039f\"], [0.2222222222222222, \"#7201a8\"], [0.3333333333333333, \"#9c179e\"], [0.4444444444444444, \"#bd3786\"], [0.5555555555555556, \"#d8576b\"], [0.6666666666666666, \"#ed7953\"], [0.7777777777777778, \"#fb9f3a\"], [0.8888888888888888, \"#fdca26\"], [1.0, \"#f0f921\"]], \"type\": \"heatmapgl\"}], \"histogram\": [{\"marker\": {\"colorbar\": {\"outlinewidth\": 0, \"ticks\": \"\"}}, \"type\": \"histogram\"}], \"histogram2d\": [{\"colorbar\": {\"outlinewidth\": 0, \"ticks\": \"\"}, \"colorscale\": [[0.0, \"#0d0887\"], [0.1111111111111111, \"#46039f\"], [0.2222222222222222, \"#7201a8\"], [0.3333333333333333, \"#9c179e\"], [0.4444444444444444, \"#bd3786\"], [0.5555555555555556, \"#d8576b\"], [0.6666666666666666, \"#ed7953\"], [0.7777777777777778, \"#fb9f3a\"], [0.8888888888888888, \"#fdca26\"], [1.0, \"#f0f921\"]], \"type\": \"histogram2d\"}], \"histogram2dcontour\": [{\"colorbar\": {\"outlinewidth\": 0, \"ticks\": \"\"}, \"colorscale\": [[0.0, \"#0d0887\"], [0.1111111111111111, \"#46039f\"], [0.2222222222222222, \"#7201a8\"], [0.3333333333333333, \"#9c179e\"], [0.4444444444444444, \"#bd3786\"], [0.5555555555555556, \"#d8576b\"], [0.6666666666666666, \"#ed7953\"], [0.7777777777777778, \"#fb9f3a\"], [0.8888888888888888, \"#fdca26\"], [1.0, \"#f0f921\"]], \"type\": \"histogram2dcontour\"}], \"mesh3d\": [{\"colorbar\": {\"outlinewidth\": 0, \"ticks\": \"\"}, \"type\": \"mesh3d\"}], \"parcoords\": [{\"line\": {\"colorbar\": {\"outlinewidth\": 0, \"ticks\": \"\"}}, \"type\": \"parcoords\"}], \"scatter\": [{\"marker\": {\"colorbar\": {\"outlinewidth\": 0, \"ticks\": \"\"}}, \"type\": \"scatter\"}], \"scatter3d\": [{\"line\": {\"colorbar\": {\"outlinewidth\": 0, \"ticks\": \"\"}}, \"marker\": {\"colorbar\": {\"outlinewidth\": 0, \"ticks\": \"\"}}, \"type\": \"scatter3d\"}], \"scattercarpet\": [{\"marker\": {\"colorbar\": {\"outlinewidth\": 0, \"ticks\": \"\"}}, \"type\": \"scattercarpet\"}], \"scattergeo\": [{\"marker\": {\"colorbar\": {\"outlinewidth\": 0, \"ticks\": \"\"}}, \"type\": \"scattergeo\"}], \"scattergl\": [{\"marker\": {\"colorbar\": {\"outlinewidth\": 0, \"ticks\": \"\"}}, \"type\": \"scattergl\"}], \"scattermapbox\": [{\"marker\": {\"colorbar\": {\"outlinewidth\": 0, \"ticks\": \"\"}}, \"type\": \"scattermapbox\"}], \"scatterpolar\": [{\"marker\": {\"colorbar\": {\"outlinewidth\": 0, \"ticks\": \"\"}}, \"type\": \"scatterpolar\"}], \"scatterpolargl\": [{\"marker\": {\"colorbar\": {\"outlinewidth\": 0, \"ticks\": \"\"}}, \"type\": \"scatterpolargl\"}], \"scatterternary\": [{\"marker\": {\"colorbar\": {\"outlinewidth\": 0, \"ticks\": \"\"}}, \"type\": \"scatterternary\"}], \"surface\": [{\"colorbar\": {\"outlinewidth\": 0, \"ticks\": \"\"}, \"colorscale\": [[0.0, \"#0d0887\"], [0.1111111111111111, \"#46039f\"], [0.2222222222222222, \"#7201a8\"], [0.3333333333333333, \"#9c179e\"], [0.4444444444444444, \"#bd3786\"], [0.5555555555555556, \"#d8576b\"], [0.6666666666666666, \"#ed7953\"], [0.7777777777777778, \"#fb9f3a\"], [0.8888888888888888, \"#fdca26\"], [1.0, \"#f0f921\"]], \"type\": \"surface\"}], \"table\": [{\"cells\": {\"fill\": {\"color\": \"#EBF0F8\"}, \"line\": {\"color\": \"white\"}}, \"header\": {\"fill\": {\"color\": \"#C8D4E3\"}, \"line\": {\"color\": \"white\"}}, \"type\": \"table\"}]}, \"layout\": {\"annotationdefaults\": {\"arrowcolor\": \"#2a3f5f\", \"arrowhead\": 0, \"arrowwidth\": 1}, \"colorscale\": {\"diverging\": [[0, \"#8e0152\"], [0.1, \"#c51b7d\"], [0.2, \"#de77ae\"], [0.3, \"#f1b6da\"], [0.4, \"#fde0ef\"], [0.5, \"#f7f7f7\"], [0.6, \"#e6f5d0\"], [0.7, \"#b8e186\"], [0.8, \"#7fbc41\"], [0.9, \"#4d9221\"], [1, \"#276419\"]], \"sequential\": [[0.0, \"#0d0887\"], [0.1111111111111111, \"#46039f\"], [0.2222222222222222, \"#7201a8\"], [0.3333333333333333, \"#9c179e\"], [0.4444444444444444, \"#bd3786\"], [0.5555555555555556, \"#d8576b\"], [0.6666666666666666, \"#ed7953\"], [0.7777777777777778, \"#fb9f3a\"], [0.8888888888888888, \"#fdca26\"], [1.0, \"#f0f921\"]], \"sequentialminus\": [[0.0, \"#0d0887\"], [0.1111111111111111, \"#46039f\"], [0.2222222222222222, \"#7201a8\"], [0.3333333333333333, \"#9c179e\"], [0.4444444444444444, \"#bd3786\"], [0.5555555555555556, \"#d8576b\"], [0.6666666666666666, \"#ed7953\"], [0.7777777777777778, \"#fb9f3a\"], [0.8888888888888888, \"#fdca26\"], [1.0, \"#f0f921\"]]}, \"colorway\": [\"#636efa\", \"#EF553B\", \"#00cc96\", \"#ab63fa\", \"#FFA15A\", \"#19d3f3\", \"#FF6692\", \"#B6E880\", \"#FF97FF\", \"#FECB52\"], \"font\": {\"color\": \"#2a3f5f\"}, \"geo\": {\"bgcolor\": \"white\", \"lakecolor\": \"white\", \"landcolor\": \"#E5ECF6\", \"showlakes\": true, \"showland\": true, \"subunitcolor\": \"white\"}, \"hoverlabel\": {\"align\": \"left\"}, \"hovermode\": \"closest\", \"mapbox\": {\"style\": \"light\"}, \"paper_bgcolor\": \"white\", \"plot_bgcolor\": \"#E5ECF6\", \"polar\": {\"angularaxis\": {\"gridcolor\": \"white\", \"linecolor\": \"white\", \"ticks\": \"\"}, \"bgcolor\": \"#E5ECF6\", \"radialaxis\": {\"gridcolor\": \"white\", \"linecolor\": \"white\", \"ticks\": \"\"}}, \"scene\": {\"xaxis\": {\"backgroundcolor\": \"#E5ECF6\", \"gridcolor\": \"white\", \"gridwidth\": 2, \"linecolor\": \"white\", \"showbackground\": true, \"ticks\": \"\", \"zerolinecolor\": \"white\"}, \"yaxis\": {\"backgroundcolor\": \"#E5ECF6\", \"gridcolor\": \"white\", \"gridwidth\": 2, \"linecolor\": \"white\", \"showbackground\": true, \"ticks\": \"\", \"zerolinecolor\": \"white\"}, \"zaxis\": {\"backgroundcolor\": \"#E5ECF6\", \"gridcolor\": \"white\", \"gridwidth\": 2, \"linecolor\": \"white\", \"showbackground\": true, \"ticks\": \"\", \"zerolinecolor\": \"white\"}}, \"shapedefaults\": {\"line\": {\"color\": \"#2a3f5f\"}}, \"ternary\": {\"aaxis\": {\"gridcolor\": \"white\", \"linecolor\": \"white\", \"ticks\": \"\"}, \"baxis\": {\"gridcolor\": \"white\", \"linecolor\": \"white\", \"ticks\": \"\"}, \"bgcolor\": \"#E5ECF6\", \"caxis\": {\"gridcolor\": \"white\", \"linecolor\": \"white\", \"ticks\": \"\"}}, \"title\": {\"x\": 0.05}, \"xaxis\": {\"automargin\": true, \"gridcolor\": \"white\", \"linecolor\": \"white\", \"ticks\": \"\", \"zerolinecolor\": \"white\", \"zerolinewidth\": 2}, \"yaxis\": {\"automargin\": true, \"gridcolor\": \"white\", \"linecolor\": \"white\", \"ticks\": \"\", \"zerolinecolor\": \"white\", \"zerolinewidth\": 2}}}, \"width\": 950},\n",
       "                        {\"responsive\": true}\n",
       "                    ).then(function(){\n",
       "                            \n",
       "var gd = document.getElementById('887ec3dc-2994-4945-b993-26d4bd636c88');\n",
       "var x = new MutationObserver(function (mutations, observer) {{\n",
       "        var display = window.getComputedStyle(gd).display;\n",
       "        if (!display || display === 'none') {{\n",
       "            console.log([gd, 'removed!']);\n",
       "            Plotly.purge(gd);\n",
       "            observer.disconnect();\n",
       "        }}\n",
       "}});\n",
       "\n",
       "// Listen for the removal of the full notebook cells\n",
       "var notebookContainer = gd.closest('#notebook-container');\n",
       "if (notebookContainer) {{\n",
       "    x.observe(notebookContainer, {childList: true});\n",
       "}}\n",
       "\n",
       "// Listen for the clearing of the current output cell\n",
       "var outputEl = gd.closest('.output');\n",
       "if (outputEl) {{\n",
       "    x.observe(outputEl, {childList: true});\n",
       "}}\n",
       "\n",
       "                        })\n",
       "                };\n",
       "                });\n",
       "            </script>\n",
       "        </div>"
      ]
     },
     "metadata": {},
     "output_type": "display_data"
    },
    {
     "data": {
      "text/plain": [
       "['Looking for that tall, sexy, Italian man that I seen riding a black scooter. Yum! I’d like to know if you are sexually available! \\n\\n\\n']"
      ]
     },
     "execution_count": 423,
     "metadata": {},
     "output_type": "execute_result"
    }
   ],
   "source": [
    "me   = [40.453150, -79.953920]\n",
    "fltr = ['girls','18','27']\n",
    "fltr = ['lady']\n",
    "fltr = ['women']\n",
    "fltr = ['guy']\n",
    "fltr = ['tall','italian']\n",
    "df, fig = word_search(me, fltr)\n",
    "fig.show()\n",
    "\n",
    "list(df.text)"
   ]
  },
  {
   "cell_type": "code",
   "execution_count": null,
   "metadata": {},
   "outputs": [],
   "source": [
    "# From variable `geotag` extract latitude and longitude\n",
    "\n",
    "# Copy original \n",
    "temp = df_housing.copy()\n",
    "temp = df_housing.dropna(subset = [\"geotag\"])\n",
    "\n",
    "temp['lat'] = temp.geotag.apply(lambda v: v[0])\n",
    "temp['lon'] = temp.geotag.apply(lambda v: v[1])\n",
    "\n",
    "# For a discrete legend: convert `bedrooms` to an object\n",
    "temp.bedrooms = temp.bedrooms.fillna(0).astype(object)\n",
    "\n",
    "# Points map across Pittsburgh\n",
    "fig = px.scatter_mapbox(temp, \n",
    "                        lat        = \"lat\", \n",
    "                        lon        = \"lon\", \n",
    "                        color      = \"bedrooms\",\n",
    "                        size       = \"price\",\n",
    "                        hover_data = [\"area\"],\n",
    "                        labels     = {\"price\": \"Price ($) \", \"area\": \"Area (ft2) \", \"bedrooms\": \"Bedrooms\"},\n",
    "                        zoom       = 12, \n",
    "                        width      = 950, height = 500)\n",
    "fig.update_layout(mapbox_style     = \"carto-positron\",\n",
    "                  margin           = {\"r\":0, \"t\":0, \"l\":0, \"b\":0})\n",
    "fig.show()"
   ]
  },
  {
   "cell_type": "code",
   "execution_count": 308,
   "metadata": {},
   "outputs": [
    {
     "data": {
      "text/html": [
       "<div>\n",
       "<style scoped>\n",
       "    .dataframe tbody tr th:only-of-type {\n",
       "        vertical-align: middle;\n",
       "    }\n",
       "\n",
       "    .dataframe tbody tr th {\n",
       "        vertical-align: top;\n",
       "    }\n",
       "\n",
       "    .dataframe thead th {\n",
       "        text-align: right;\n",
       "    }\n",
       "</style>\n",
       "<table border=\"1\" class=\"dataframe\">\n",
       "  <thead>\n",
       "    <tr style=\"text-align: right;\">\n",
       "      <th></th>\n",
       "      <th>geotag</th>\n",
       "      <th>lat</th>\n",
       "      <th>col</th>\n",
       "    </tr>\n",
       "  </thead>\n",
       "  <tbody>\n",
       "    <tr>\n",
       "      <th>0</th>\n",
       "      <td>(40.440682, -80.002441)</td>\n",
       "      <td>40.440682</td>\n",
       "      <td>1.0</td>\n",
       "    </tr>\n",
       "    <tr>\n",
       "      <th>1</th>\n",
       "      <td>(40.483265, -80.012054)</td>\n",
       "      <td>40.483265</td>\n",
       "      <td>1.0</td>\n",
       "    </tr>\n",
       "    <tr>\n",
       "      <th>2</th>\n",
       "      <td>(40.494743, -79.908714)</td>\n",
       "      <td>40.494743</td>\n",
       "      <td>1.0</td>\n",
       "    </tr>\n",
       "    <tr>\n",
       "      <th>3</th>\n",
       "      <td>(40.5051, -79.9528)</td>\n",
       "      <td>40.505100</td>\n",
       "      <td>1.0</td>\n",
       "    </tr>\n",
       "    <tr>\n",
       "      <th>4</th>\n",
       "      <td>(40.4752, -79.9528)</td>\n",
       "      <td>40.475200</td>\n",
       "      <td>1.0</td>\n",
       "    </tr>\n",
       "    <tr>\n",
       "      <th>5</th>\n",
       "      <td>40.4532</td>\n",
       "      <td>-79.953920</td>\n",
       "      <td>0.0</td>\n",
       "    </tr>\n",
       "  </tbody>\n",
       "</table>\n",
       "</div>"
      ],
      "text/plain": [
       "                    geotag        lat  col\n",
       "0  (40.440682, -80.002441)  40.440682  1.0\n",
       "1  (40.483265, -80.012054)  40.483265  1.0\n",
       "2  (40.494743, -79.908714)  40.494743  1.0\n",
       "3      (40.5051, -79.9528)  40.505100  1.0\n",
       "4      (40.4752, -79.9528)  40.475200  1.0\n",
       "5                  40.4532 -79.953920  0.0"
      ]
     },
     "execution_count": 308,
     "metadata": {},
     "output_type": "execute_result"
    }
   ],
   "source": [
    "a = pd.DataFrame(df_missing.geotag.copy())\n",
    "a['lat'] = a.geotag.apply(lambda v: v[0])\n",
    "a['col'] = 1\n",
    "a = a.head()\n",
    "a.loc[a.shape[0]] = [40.453150, -79.953920] + [0]\n",
    "a"
   ]
  }
 ],
 "metadata": {
  "kernelspec": {
   "display_name": "Python 3",
   "language": "python",
   "name": "python3"
  },
  "language_info": {
   "codemirror_mode": {
    "name": "ipython",
    "version": 3
   },
   "file_extension": ".py",
   "mimetype": "text/x-python",
   "name": "python",
   "nbconvert_exporter": "python",
   "pygments_lexer": "ipython3",
   "version": "3.7.3"
  }
 },
 "nbformat": 4,
 "nbformat_minor": 2
}
